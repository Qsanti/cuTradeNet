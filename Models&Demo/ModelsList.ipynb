{
 "cells": [
  {
   "cell_type": "markdown",
   "metadata": {},
   "source": [
    "# Kinetic wealth exchange models\n",
    "\n",
    " [*Kinetic wealth exchange models*](https://rf.mokslasplius.lt/elementary-kinetic-exchange-models/ \"online mini simulations\") provide a description of wealth flow in terms of stochastic wealth exchange between agents, resembling the energy transfer between the molecules of a fluid. Is one of the *basic tool* in the study of wealth distribution and wealth dynamics in the field of [Econophysics](https://en.wikipedia.org/wiki/Econophysics \"Econophysics wiki\").\n",
    "\n",
    "\n",
    "**Related reviews**:\n",
    ">Patriarca, M., Heinsalu, E., & Chakraborti, A. (2010). [Basic kinetic wealth-exchange models: common features and open problems.](https://link.springer.com/article/10.1140/epjb/e2009-00418-6) The European Physical Journal B, 73(1), 145-153.\n",
    "\n",
    ">Chatterjee, A., & Sen, P. (2010). [Agent dynamics in kinetic models of wealth exchange.](https://journals.aps.org/pre/abstract/10.1103/PhysRevE.82.056117) Physical Review E, 82(5), 056117."
   ]
  },
  {
   "cell_type": "markdown",
   "metadata": {},
   "source": [
    "---\n",
    "## General"
   ]
  },
  {
   "cell_type": "markdown",
   "metadata": {},
   "source": [
    "They are made of $N$ economic [agents](https://en.wikipedia.org/wiki/Agent-based_model), with a total wealth $W_{total}$, and perform pair conservative exchanges. At each time steps of simulations each agent $i$ exchanges a quantity $\\Delta \\omega_{ij}$ with another agent $j$ chosen randomly. The exchange is conservative, meaning that the total wealth of the system is conserved. The exchange is also pair, meaning that the exchange is between two agents, and not between an agent and the environment.\n",
    "\n",
    "$$\n",
    "\\omega_i*=\\omega_i + \\Delta \\omega_{ij}\n",
    "\\\\\n",
    "\\omega_j*=\\omega_j- \\Delta \\omega_{ij}\n",
    "$$\n",
    "\n",
    "\n",
    "The evolution of the system is done by a [Monte Carlo Algorithm](https://en.wikipedia.org/wiki/Monte_Carlo_algorithm), where the exchanges are performed randomly. The exchanges are performed in a [Markov Chain](https://en.wikipedia.org/wiki/Markov_chain) fashion, where the next exchange is independent of the previous one. Since a each time step each agent chooses a random agent to exchange with, each MCS consoists of $N$ exchanges.\n",
    "\n",
    "In the [**cuTradeNet**](https://github.com/Qsanti/cuTradeNet) module a [complex network](https://en.wikipedia.org/wiki/Econophysics)  is needed to create systems, where each node represents an agent and each edge represents a possible exchange between two agents. So each agent can *only* exchange with the agents connected to it. "
   ]
  },
  {
   "cell_type": "markdown",
   "metadata": {},
   "source": [
    "---\n",
    "\n",
    "## Models\n",
    "\n",
    "The different models differ in the way the exchange quantity $\\Delta \\omega_{ij}$ is chosen. \n"
   ]
  },
  {
   "cell_type": "markdown",
   "metadata": {},
   "source": [
    "In the following cases:\n",
    "        \n",
    "* $\\epsilon$ is a uniform distributed variable $(0,1)$.\n",
    "* $\\eta$ is a dichotomous variable with equal probability of have [0,1] values.\n",
    "* $\\eta_\\pm$ is a dichotomous variable with equal probability of have [-1,+1] values. "
   ]
  },
  {
   "cell_type": "markdown",
   "metadata": {},
   "source": [
    "### 1. [Dragulescu and Yakovenko](https://arxiv.org/abs/cond-mat/0001432) (2000)\n",
    "#### DY model\n",
    "$$\n",
    "\\Delta \\omega_{ij} =  (1-\\epsilon)\\cdot \\omega_j(t) -\\epsilon \\cdot \\omega_i(t)\n",
    "$$\n",
    "\n",
    "With this equation the amount of the agents $\\omega_i+\\omega_j$ is reshuffled randomly between the two agents in the following way:\n",
    "\\begin{align}\n",
    "\\omega_i*&=\\epsilon (\\omega_i+\\omega_j)\n",
    "\\\\\n",
    "\\omega_j*&= (1-\\epsilon) (\\omega_i+\\omega_j)\n",
    "\\end{align}\n",
    "$$\n"
   ]
  },
  {
   "cell_type": "markdown",
   "metadata": {},
   "source": [
    "### 2. [Constant model](https://www.unilibro.it/libro/bennati-eleonora/simulazione-statistica-nell-analisi-distribuzione-reddito-modelli-realistici-metodo-montecarlo/9788877413925) (1988)\n",
    "\n",
    "\n",
    "* Also known as the Bennati model\n",
    "\n",
    "$$\n",
    "\\Delta \\omega_{ij} = \\eta_\\pm \\cdot \\omega_0\n",
    "$$"
   ]
  },
  {
   "cell_type": "markdown",
   "metadata": {},
   "source": [
    "### 3. [Chatterjee, Chakrabarti and Manna ](https://iopscience.iop.org/article/10.1238/Physica.Topical.106a00036) (2003)\n",
    "\n",
    "#### CCM model\n",
    "\n",
    "$$\n",
    "\\Delta \\omega_{ij} = \\epsilon(1-\\lambda_j)\\cdot\\omega_j(t) - (1-\\epsilon)(1-\\lambda_i)\\cdot \\omega_i(t)\n",
    "$$\n",
    "\n",
    "* Note that in the case $\\lambda_l=0$, the model becomes the DY model."
   ]
  },
  {
   "cell_type": "code",
   "execution_count": null,
   "metadata": {},
   "outputs": [],
   "source": []
  },
  {
   "cell_type": "markdown",
   "metadata": {},
   "source": [
    "### 4. [MergerSpinoff](https://www.sciencedirect.com/science/article/pii/S037843710300101X) (2003)\n",
    "\n",
    "* Also know as the Angle One-Parameter Inequality Process model\n",
    "\n",
    "$$\n",
    "\\Delta \\omega_{ij} = \\eta r_j\\cdot\\omega_j(t) - (1-\\eta)r_i \\cdot\\omega_i(t)\n",
    "$$\n"
   ]
  },
  {
   "cell_type": "markdown",
   "metadata": {},
   "source": [
    "### 5. [Yard Sale](http://bit-player.org/wp-content/extras/bph-publications/AmSci-2002-09-Hayes-money.pdf) (2002)\n",
    "\n",
    "$$\n",
    "\\Delta \\omega_{ij} = \\eta_\\pm \\cdot min(r_i\\omega_i(t),r_j\\omega_j(t))\\\\\n",
    "$$\n",
    "\n",
    "$$\n",
    "\\\\\n",
    "$$\n",
    "\n",
    "In this model a bias is introduced to favour the poorest agents. \n",
    "\n",
    "Using $f \\in (0,0.5)$, named *\"Social protection factor\"*.\n",
    "$$\n",
    "P(\\eta_\\pm=+1) = 0.5 + f \\cdot \\frac{\\omega_j -\\omega_i}{\\omega_i +\\omega_j}\\\\\n",
    "$$\n",
    "\n"
   ]
  },
  {
   "cell_type": "markdown",
   "metadata": {},
   "source": [
    "### 6. \"All in\" \n",
    "\n",
    "$$\n",
    "\\Delta \\omega_{ij} = \\eta_\\pm \\cdot min(\\omega_i(t),\\omega_j(t))\n",
    "$$"
   ]
  },
  {
   "cell_type": "markdown",
   "metadata": {},
   "source": []
  }
 ],
 "metadata": {
  "kernelspec": {
   "display_name": "Python 3.9.12 ('base')",
   "language": "python",
   "name": "python3"
  },
  "language_info": {
   "codemirror_mode": {
    "name": "ipython",
    "version": 3
   },
   "file_extension": ".py",
   "mimetype": "text/x-python",
   "name": "python",
   "nbconvert_exporter": "python",
   "pygments_lexer": "ipython3",
   "version": "3.9.12"
  },
  "orig_nbformat": 4,
  "vscode": {
   "interpreter": {
    "hash": "ad2bdc8ecc057115af97d19610ffacc2b4e99fae6737bb82f5d7fb13d2f2c186"
   }
  }
 },
 "nbformat": 4,
 "nbformat_minor": 2
}
