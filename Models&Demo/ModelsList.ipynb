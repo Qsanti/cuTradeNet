{
 "cells": [
  {
   "cell_type": "markdown",
   "metadata": {},
   "source": [
    "# Kinetic wealth exchange models\n",
    "\n",
    "Kinetic wealth exchange models are (...)"
   ]
  },
  {
   "cell_type": "markdown",
   "metadata": {},
   "source": [
    "$$\n",
    "\\omega_i(t+1)=\\omega_i(t) + \\Delta \\omega_{ij}\n",
    "\\\\\n",
    "\\omega_j(t+1)=\\omega_j(t) - \\Delta \\omega_{ij}\n",
    "$$\n"
   ]
  },
  {
   "cell_type": "markdown",
   "metadata": {},
   "source": [
    "In the following cases:\n",
    "        \n",
    "* $\\epsilon$ is a uniform distributed variable $(0,1)$.\n",
    "* $\\eta$ is a dichotomous variable with equal probability of have [0,1] values.\n",
    "* $\\eta_\\pm$ is a dichotomous variable with equal probability of have [-1,+1] values. "
   ]
  },
  {
   "cell_type": "markdown",
   "metadata": {},
   "source": [
    "### 1. [Dragulescu and Yakovenko](https://arxiv.org/abs/cond-mat/0001432) (2000)\n",
    "#### DY model\n",
    "$$\n",
    "\\Delta \\omega_{ij} = \\epsilon \\cdot \\omega_i(t) +  (1-\\epsilon)\\cdot \\omega_j(t) \n",
    "$$\n"
   ]
  },
  {
   "cell_type": "markdown",
   "metadata": {},
   "source": [
    "### 2. [Constant model](https://www.unilibro.it/libro/bennati-eleonora/simulazione-statistica-nell-analisi-distribuzione-reddito-modelli-realistici-metodo-montecarlo/9788877413925) (1988)\n",
    "\n",
    "\n",
    "* Also known as the Bennati model\n",
    "\n",
    "$$\n",
    "\\Delta \\omega_{ij} = \\eta_\\pm \\cdot \\omega_0\n",
    "$$"
   ]
  },
  {
   "cell_type": "markdown",
   "metadata": {},
   "source": [
    "### 3. [Chatterjee, Chakrabarti and Manna ](https://iopscience.iop.org/article/10.1238/Physica.Topical.106a00036) (2003)\n",
    "\n",
    "#### CCM model\n",
    "\n",
    "$$\n",
    "\\Delta \\omega_{ij} = \\epsilon(1-\\lambda_j)\\cdot\\omega_j(t) - (1-\\epsilon)(1-\\lambda_i)\\cdot \\omega_i(t)\n",
    "$$\n",
    "\n",
    "* Note that in the case $\\lambda_l=0$, the model becomes the DY model."
   ]
  },
  {
   "cell_type": "markdown",
   "metadata": {},
   "source": [
    "### 4. [MergerSpinoff](https://www.sciencedirect.com/science/article/pii/S037843710300101X) (2003)\n",
    "\n",
    "* Also know as the Angle One-Parameter Inequality Process model\n",
    "\n",
    "$$\n",
    "\\Delta \\omega_{ij} = \\eta r_j\\cdot\\omega_j(t) - (1-\\eta)r_i \\cdot\\omega_i(t)\n",
    "$$\n"
   ]
  },
  {
   "cell_type": "markdown",
   "metadata": {},
   "source": [
    "### 5. [Yard Sale](http://bit-player.org/wp-content/extras/bph-publications/AmSci-2002-09-Hayes-money.pdf) (2002)\n",
    "\n",
    "$$\n",
    "\\Delta \\omega_{ij} = \\eta_\\pm \\cdot min(r_i\\omega_i(t),r_j\\omega_j(t))\\\\\n",
    "$$\n",
    "\n",
    "$$\n",
    "\\\\\n",
    "$$\n",
    "\n",
    "In this model a bias is introduced to favour the poorest agents. \n",
    "\n",
    "Using $f \\in (0,0.5)$, named *\"Social protection factor\"*.\n",
    "$$\n",
    "P(\\eta_\\pm=+1) = 0.5 + f \\cdot \\frac{\\omega_j -\\omega_i}{\\omega_i +\\omega_j}\\\\\n",
    "$$\n",
    "\n"
   ]
  },
  {
   "cell_type": "markdown",
   "metadata": {},
   "source": [
    "### 6. \"All in\" \n",
    "\n",
    "$$\n",
    "\\Delta \\omega_{ij} = \\eta_\\pm \\cdot min(\\omega_i(t),\\omega_j(t))\n",
    "$$"
   ]
  },
  {
   "cell_type": "markdown",
   "metadata": {},
   "source": []
  }
 ],
 "metadata": {
  "kernelspec": {
   "display_name": "Python 3.9.12 ('base')",
   "language": "python",
   "name": "python3"
  },
  "language_info": {
   "codemirror_mode": {
    "name": "ipython",
    "version": 3
   },
   "file_extension": ".py",
   "mimetype": "text/x-python",
   "name": "python",
   "nbconvert_exporter": "python",
   "pygments_lexer": "ipython3",
   "version": "3.9.12"
  },
  "orig_nbformat": 4,
  "vscode": {
   "interpreter": {
    "hash": "ad2bdc8ecc057115af97d19610ffacc2b4e99fae6737bb82f5d7fb13d2f2c186"
   }
  }
 },
 "nbformat": 4,
 "nbformat_minor": 2
}
